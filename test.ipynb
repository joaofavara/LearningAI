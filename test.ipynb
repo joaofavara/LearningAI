{
 "cells": [
  {
   "cell_type": "code",
   "execution_count": 1,
   "metadata": {},
   "outputs": [],
   "source": [
    "import tensorflow as tf\n",
    "from tensorflow import keras\n",
    "import numpy as np"
   ]
  },
  {
   "cell_type": "code",
   "execution_count": 2,
   "metadata": {},
   "outputs": [],
   "source": [
    "images = keras.datasets.cifar10.load_data()"
   ]
  },
  {
   "cell_type": "code",
   "execution_count": 3,
   "metadata": {},
   "outputs": [
    {
     "name": "stdout",
     "output_type": "stream",
     "text": [
      "X_train_full.shape: (50000, 32, 32, 3)\n",
      "X_train_full.dtype: uint8\n",
      "y_train_full.shape: (50000, 1)\n",
      "y_train_full.dtype: uint8\n",
      "X_test.shape: (10000, 32, 32, 3)\n",
      "X_test.dtype: uint8\n",
      "y_test.shape: (10000, 1)\n",
      "y_test.dtype: uint8\n"
     ]
    }
   ],
   "source": [
    "(X_train_full, y_train_full), (X_test, y_test) = images\n",
    "print(f'X_train_full.shape: {X_train_full.shape}')\n",
    "print(f'X_train_full.dtype: {X_train_full.dtype}')\n",
    "print(f'y_train_full.shape: {y_train_full.shape}')\n",
    "print(f'y_train_full.dtype: {y_train_full.dtype}')\n",
    "print(f'X_test.shape: {X_test.shape}')\n",
    "print(f'X_test.dtype: {X_test.dtype}')\n",
    "print(f'y_test.shape: {y_test.shape}')\n",
    "print(f'y_test.dtype: {y_test.dtype}')"
   ]
  },
  {
   "cell_type": "code",
   "execution_count": 4,
   "metadata": {},
   "outputs": [],
   "source": [
    "class_name = ['airplane', 'automobile', 'bird', 'cat', 'deer', 'dog', 'frog', 'horse', 'ship', 'truck']"
   ]
  },
  {
   "cell_type": "code",
   "execution_count": 45,
   "metadata": {},
   "outputs": [],
   "source": [
    "X_valid, X_train = X_train_full[:10000] / 255.0, X_train_full[10000:] / 255.0\n",
    "\n",
    "values = []\n",
    "for data in y_train_full:\n",
    "    values.append(data[0])\n",
    "\n",
    "y_valid, y_train = np.asarray(y_train_full[:10000], dtype=np.float32), np.asarray(y_train_full[10000:], dtype=np.float32)\n",
    "# print(f'y_valid.shape: {y_valid.shape}')\n",
    "# print(f'y_valid.dtype: {y_valid.dtype}')\n",
    "# print(f'y_train.shape: {y_train.shape}')\n",
    "# print(f'y_train.dtype: {y_train.dtype}')"
   ]
  },
  {
   "cell_type": "code",
   "execution_count": 46,
   "metadata": {},
   "outputs": [
    {
     "data": {
      "text/plain": [
       "array([[[0.1372549 , 0.09803922, 0.10196078],\n",
       "        [0.10588235, 0.08235294, 0.08235294],\n",
       "        [0.09803922, 0.07843137, 0.0745098 ],\n",
       "        ...,\n",
       "        [0.51764706, 0.50588235, 0.50588235],\n",
       "        [0.52156863, 0.4745098 , 0.45490196],\n",
       "        [0.49411765, 0.45098039, 0.44313725]],\n",
       "\n",
       "       [[0.24705882, 0.21568627, 0.19607843],\n",
       "        [0.1254902 , 0.10588235, 0.08235294],\n",
       "        [0.06666667, 0.05098039, 0.03137255],\n",
       "        ...,\n",
       "        [0.4       , 0.37254902, 0.34509804],\n",
       "        [0.41176471, 0.34901961, 0.29803922],\n",
       "        [0.39215686, 0.3372549 , 0.30196078]],\n",
       "\n",
       "       [[0.38823529, 0.35686275, 0.32941176],\n",
       "        [0.19215686, 0.17647059, 0.14509804],\n",
       "        [0.05882353, 0.04705882, 0.01960784],\n",
       "        ...,\n",
       "        [0.18039216, 0.16862745, 0.15294118],\n",
       "        [0.20392157, 0.16078431, 0.13333333],\n",
       "        [0.20392157, 0.17254902, 0.16078431]],\n",
       "\n",
       "       ...,\n",
       "\n",
       "       [[0.65098039, 0.64705882, 0.67058824],\n",
       "        [0.64313725, 0.63921569, 0.65098039],\n",
       "        [0.64313725, 0.64313725, 0.64705882],\n",
       "        ...,\n",
       "        [0.67843137, 0.6745098 , 0.66666667],\n",
       "        [0.66666667, 0.66666667, 0.65882353],\n",
       "        [0.65490196, 0.65490196, 0.65490196]],\n",
       "\n",
       "       [[0.6627451 , 0.65882353, 0.69019608],\n",
       "        [0.6627451 , 0.65882353, 0.67843137],\n",
       "        [0.65882353, 0.65882353, 0.67058824],\n",
       "        ...,\n",
       "        [0.6745098 , 0.67058824, 0.66666667],\n",
       "        [0.65882353, 0.65490196, 0.65490196],\n",
       "        [0.64705882, 0.64705882, 0.65098039]],\n",
       "\n",
       "       [[0.67843137, 0.6745098 , 0.70196078],\n",
       "        [0.68627451, 0.68235294, 0.69803922],\n",
       "        [0.67843137, 0.67843137, 0.68627451],\n",
       "        ...,\n",
       "        [0.66666667, 0.65882353, 0.6627451 ],\n",
       "        [0.65882353, 0.65490196, 0.65882353],\n",
       "        [0.65098039, 0.65098039, 0.65882353]]])"
      ]
     },
     "execution_count": 46,
     "metadata": {},
     "output_type": "execute_result"
    }
   ],
   "source": [
    "X_train[0]"
   ]
  },
  {
   "cell_type": "code",
   "execution_count": 47,
   "metadata": {},
   "outputs": [],
   "source": [
    "model = keras.models.Sequential()\n",
    "model.add(keras.layers.Flatten(input_shape=[32, 32, 3]))\n",
    "model.add(keras.layers.Dense(300, activation=\"relu\"))\n",
    "model.add(keras.layers.Dense(100, activation=\"relu\"))\n",
    "model.add(keras.layers.Dense(10, activation=\"softmax\"))"
   ]
  },
  {
   "cell_type": "code",
   "execution_count": 23,
   "metadata": {},
   "outputs": [
    {
     "name": "stdout",
     "output_type": "stream",
     "text": [
      "Model: \"sequential_1\"\n",
      "_________________________________________________________________\n",
      "Layer (type)                 Output Shape              Param #   \n",
      "=================================================================\n",
      "flatten_1 (Flatten)          (None, 3072)              0         \n",
      "_________________________________________________________________\n",
      "dense_3 (Dense)              (None, 300)               921900    \n",
      "_________________________________________________________________\n",
      "dense_4 (Dense)              (None, 100)               30100     \n",
      "_________________________________________________________________\n",
      "dense_5 (Dense)              (None, 10)                1010      \n",
      "=================================================================\n",
      "Total params: 953,010\n",
      "Trainable params: 953,010\n",
      "Non-trainable params: 0\n",
      "_________________________________________________________________\n"
     ]
    }
   ],
   "source": [
    "model.summary()"
   ]
  },
  {
   "cell_type": "code",
   "execution_count": 54,
   "metadata": {},
   "outputs": [],
   "source": [
    "model.compile(loss='sparse_categorical_crossentropy',\n",
    "optimizer=\"sgd\",\n",
    "metrics=['accuracy'])"
   ]
  },
  {
   "cell_type": "code",
   "execution_count": 55,
   "metadata": {},
   "outputs": [
    {
     "name": "stdout",
     "output_type": "stream",
     "text": [
      "Epoch 1/100\n",
      "1250/1250 [==============================] - 6s 5ms/step - loss: 1.3324 - accuracy: 0.5223 - val_loss: 1.4265 - val_accuracy: 0.4948\n",
      "Epoch 2/100\n",
      "1250/1250 [==============================] - 6s 5ms/step - loss: 1.3169 - accuracy: 0.5303 - val_loss: 1.4326 - val_accuracy: 0.4910\n",
      "Epoch 3/100\n",
      "1250/1250 [==============================] - 6s 5ms/step - loss: 1.3101 - accuracy: 0.5302 - val_loss: 1.4306 - val_accuracy: 0.4941\n",
      "Epoch 4/100\n",
      "1250/1250 [==============================] - 6s 5ms/step - loss: 1.3044 - accuracy: 0.5349 - val_loss: 1.4295 - val_accuracy: 0.4918\n",
      "Epoch 5/100\n",
      "1250/1250 [==============================] - 6s 5ms/step - loss: 1.2998 - accuracy: 0.5367 - val_loss: 1.4295 - val_accuracy: 0.4998\n",
      "Epoch 6/100\n",
      "1250/1250 [==============================] - 6s 5ms/step - loss: 1.2954 - accuracy: 0.5374 - val_loss: 1.4253 - val_accuracy: 0.4954\n",
      "Epoch 7/100\n",
      "1250/1250 [==============================] - 6s 5ms/step - loss: 1.2917 - accuracy: 0.5391 - val_loss: 1.4285 - val_accuracy: 0.4985\n",
      "Epoch 8/100\n",
      "1250/1250 [==============================] - 6s 5ms/step - loss: 1.2877 - accuracy: 0.5428 - val_loss: 1.4278 - val_accuracy: 0.4969\n",
      "Epoch 9/100\n",
      "1250/1250 [==============================] - 6s 5ms/step - loss: 1.2846 - accuracy: 0.5404 - val_loss: 1.4262 - val_accuracy: 0.4961\n",
      "Epoch 10/100\n",
      "1250/1250 [==============================] - 6s 5ms/step - loss: 1.2812 - accuracy: 0.5433 - val_loss: 1.4326 - val_accuracy: 0.4986\n",
      "Epoch 11/100\n",
      "1250/1250 [==============================] - 6s 5ms/step - loss: 1.2783 - accuracy: 0.5429 - val_loss: 1.4295 - val_accuracy: 0.4968\n",
      "Epoch 12/100\n",
      "1250/1250 [==============================] - 6s 5ms/step - loss: 1.2753 - accuracy: 0.5452 - val_loss: 1.4293 - val_accuracy: 0.4968\n",
      "Epoch 13/100\n",
      "1250/1250 [==============================] - 6s 5ms/step - loss: 1.2730 - accuracy: 0.5456 - val_loss: 1.4358 - val_accuracy: 0.4955\n",
      "Epoch 14/100\n",
      "1250/1250 [==============================] - 6s 5ms/step - loss: 1.2701 - accuracy: 0.5477 - val_loss: 1.4360 - val_accuracy: 0.4946\n",
      "Epoch 15/100\n",
      "1250/1250 [==============================] - 6s 5ms/step - loss: 1.2669 - accuracy: 0.5483 - val_loss: 1.4223 - val_accuracy: 0.5007\n",
      "Epoch 16/100\n",
      "1250/1250 [==============================] - 6s 5ms/step - loss: 1.2642 - accuracy: 0.5477 - val_loss: 1.4307 - val_accuracy: 0.4950\n",
      "Epoch 17/100\n",
      "1250/1250 [==============================] - 6s 5ms/step - loss: 1.2610 - accuracy: 0.5485 - val_loss: 1.4241 - val_accuracy: 0.5020\n",
      "Epoch 18/100\n",
      "1250/1250 [==============================] - 6s 5ms/step - loss: 1.2602 - accuracy: 0.5497 - val_loss: 1.4301 - val_accuracy: 0.5002\n",
      "Epoch 19/100\n",
      "1250/1250 [==============================] - 6s 5ms/step - loss: 1.2568 - accuracy: 0.5514 - val_loss: 1.4245 - val_accuracy: 0.4969\n",
      "Epoch 20/100\n",
      "1250/1250 [==============================] - 6s 5ms/step - loss: 1.2551 - accuracy: 0.5512 - val_loss: 1.4246 - val_accuracy: 0.4997\n",
      "Epoch 21/100\n",
      "1250/1250 [==============================] - 6s 5ms/step - loss: 1.2521 - accuracy: 0.5527 - val_loss: 1.4401 - val_accuracy: 0.4976\n",
      "Epoch 22/100\n",
      "1250/1250 [==============================] - 6s 5ms/step - loss: 1.2494 - accuracy: 0.5529 - val_loss: 1.4288 - val_accuracy: 0.4960\n",
      "Epoch 23/100\n",
      "1250/1250 [==============================] - 6s 5ms/step - loss: 1.2482 - accuracy: 0.5538 - val_loss: 1.4226 - val_accuracy: 0.5015\n",
      "Epoch 24/100\n",
      "1250/1250 [==============================] - 6s 5ms/step - loss: 1.2449 - accuracy: 0.5562 - val_loss: 1.4338 - val_accuracy: 0.4992\n",
      "Epoch 25/100\n",
      "1250/1250 [==============================] - 6s 5ms/step - loss: 1.2434 - accuracy: 0.5541 - val_loss: 1.4193 - val_accuracy: 0.5013\n",
      "Epoch 26/100\n",
      "1250/1250 [==============================] - 6s 5ms/step - loss: 1.2406 - accuracy: 0.5561 - val_loss: 1.4334 - val_accuracy: 0.5020\n",
      "Epoch 27/100\n",
      "1250/1250 [==============================] - 6s 5ms/step - loss: 1.2391 - accuracy: 0.5568 - val_loss: 1.4236 - val_accuracy: 0.5023\n",
      "Epoch 28/100\n",
      "1250/1250 [==============================] - 6s 5ms/step - loss: 1.2364 - accuracy: 0.5588 - val_loss: 1.4326 - val_accuracy: 0.5021\n",
      "Epoch 29/100\n",
      "1250/1250 [==============================] - 6s 5ms/step - loss: 1.2340 - accuracy: 0.5583 - val_loss: 1.4246 - val_accuracy: 0.5011\n",
      "Epoch 30/100\n",
      "1250/1250 [==============================] - 6s 5ms/step - loss: 1.2318 - accuracy: 0.5608 - val_loss: 1.4301 - val_accuracy: 0.4985\n",
      "Epoch 31/100\n",
      "1250/1250 [==============================] - 6s 5ms/step - loss: 1.2289 - accuracy: 0.5610 - val_loss: 1.4397 - val_accuracy: 0.4981\n",
      "Epoch 32/100\n",
      "1250/1250 [==============================] - 6s 5ms/step - loss: 1.2279 - accuracy: 0.5617 - val_loss: 1.4364 - val_accuracy: 0.4938\n",
      "Epoch 33/100\n",
      "1250/1250 [==============================] - 6s 5ms/step - loss: 1.2246 - accuracy: 0.5633 - val_loss: 1.4329 - val_accuracy: 0.4965\n",
      "Epoch 34/100\n",
      "1250/1250 [==============================] - 6s 5ms/step - loss: 1.2228 - accuracy: 0.5643 - val_loss: 1.4298 - val_accuracy: 0.4985\n",
      "Epoch 35/100\n",
      "1250/1250 [==============================] - 6s 5ms/step - loss: 1.2213 - accuracy: 0.5630 - val_loss: 1.4390 - val_accuracy: 0.4952\n",
      "Epoch 36/100\n",
      "1250/1250 [==============================] - 6s 5ms/step - loss: 1.2200 - accuracy: 0.5648 - val_loss: 1.4314 - val_accuracy: 0.5046\n",
      "Epoch 37/100\n",
      "1250/1250 [==============================] - 6s 5ms/step - loss: 1.2171 - accuracy: 0.5672 - val_loss: 1.4282 - val_accuracy: 0.5009\n",
      "Epoch 38/100\n",
      "1250/1250 [==============================] - 6s 5ms/step - loss: 1.2152 - accuracy: 0.5663 - val_loss: 1.4359 - val_accuracy: 0.4944\n",
      "Epoch 39/100\n",
      "1250/1250 [==============================] - 6s 5ms/step - loss: 1.2136 - accuracy: 0.5651 - val_loss: 1.4441 - val_accuracy: 0.4944\n",
      "Epoch 40/100\n",
      "1250/1250 [==============================] - 6s 5ms/step - loss: 1.2120 - accuracy: 0.5664 - val_loss: 1.4500 - val_accuracy: 0.4981\n",
      "Epoch 41/100\n",
      "1250/1250 [==============================] - 6s 5ms/step - loss: 1.2087 - accuracy: 0.5698 - val_loss: 1.4395 - val_accuracy: 0.4987\n",
      "Epoch 42/100\n",
      "1250/1250 [==============================] - 6s 5ms/step - loss: 1.2078 - accuracy: 0.5681 - val_loss: 1.4377 - val_accuracy: 0.4977\n",
      "Epoch 43/100\n",
      "1250/1250 [==============================] - 6s 5ms/step - loss: 1.2058 - accuracy: 0.5689 - val_loss: 1.4340 - val_accuracy: 0.4998\n",
      "Epoch 44/100\n",
      "1250/1250 [==============================] - 6s 5ms/step - loss: 1.2054 - accuracy: 0.5699 - val_loss: 1.4298 - val_accuracy: 0.4999\n",
      "Epoch 45/100\n",
      " 193/1250 [===>..........................] - ETA: 5s - loss: 1.1863 - accuracy: 0.5701"
     ]
    },
    {
     "ename": "KeyboardInterrupt",
     "evalue": "",
     "output_type": "error",
     "traceback": [
      "\u001b[1;31m---------------------------------------------------------------------------\u001b[0m",
      "\u001b[1;31mKeyboardInterrupt\u001b[0m                         Traceback (most recent call last)",
      "\u001b[1;32m<ipython-input-55-3c2101f45fa5>\u001b[0m in \u001b[0;36m<module>\u001b[1;34m\u001b[0m\n\u001b[0;32m      1\u001b[0m history= model.fit(X_train, y_train, epochs=100,\n\u001b[1;32m----> 2\u001b[1;33m                     validation_data=(X_valid, y_valid))\n\u001b[0m",
      "\u001b[1;32mc:\\Users\\Admin\\Desktop\\LearningAI\\learning_ai\\lib\\site-packages\\tensorflow\\python\\keras\\engine\\training.py\u001b[0m in \u001b[0;36mfit\u001b[1;34m(self, x, y, batch_size, epochs, verbose, callbacks, validation_split, validation_data, shuffle, class_weight, sample_weight, initial_epoch, steps_per_epoch, validation_steps, validation_batch_size, validation_freq, max_queue_size, workers, use_multiprocessing)\u001b[0m\n\u001b[0;32m   1181\u001b[0m                 _r=1):\n\u001b[0;32m   1182\u001b[0m               \u001b[0mcallbacks\u001b[0m\u001b[1;33m.\u001b[0m\u001b[0mon_train_batch_begin\u001b[0m\u001b[1;33m(\u001b[0m\u001b[0mstep\u001b[0m\u001b[1;33m)\u001b[0m\u001b[1;33m\u001b[0m\u001b[1;33m\u001b[0m\u001b[0m\n\u001b[1;32m-> 1183\u001b[1;33m               \u001b[0mtmp_logs\u001b[0m \u001b[1;33m=\u001b[0m \u001b[0mself\u001b[0m\u001b[1;33m.\u001b[0m\u001b[0mtrain_function\u001b[0m\u001b[1;33m(\u001b[0m\u001b[0miterator\u001b[0m\u001b[1;33m)\u001b[0m\u001b[1;33m\u001b[0m\u001b[1;33m\u001b[0m\u001b[0m\n\u001b[0m\u001b[0;32m   1184\u001b[0m               \u001b[1;32mif\u001b[0m \u001b[0mdata_handler\u001b[0m\u001b[1;33m.\u001b[0m\u001b[0mshould_sync\u001b[0m\u001b[1;33m:\u001b[0m\u001b[1;33m\u001b[0m\u001b[1;33m\u001b[0m\u001b[0m\n\u001b[0;32m   1185\u001b[0m                 \u001b[0mcontext\u001b[0m\u001b[1;33m.\u001b[0m\u001b[0masync_wait\u001b[0m\u001b[1;33m(\u001b[0m\u001b[1;33m)\u001b[0m\u001b[1;33m\u001b[0m\u001b[1;33m\u001b[0m\u001b[0m\n",
      "\u001b[1;32mc:\\Users\\Admin\\Desktop\\LearningAI\\learning_ai\\lib\\site-packages\\tensorflow\\python\\eager\\def_function.py\u001b[0m in \u001b[0;36m__call__\u001b[1;34m(self, *args, **kwds)\u001b[0m\n\u001b[0;32m    887\u001b[0m \u001b[1;33m\u001b[0m\u001b[0m\n\u001b[0;32m    888\u001b[0m       \u001b[1;32mwith\u001b[0m \u001b[0mOptionalXlaContext\u001b[0m\u001b[1;33m(\u001b[0m\u001b[0mself\u001b[0m\u001b[1;33m.\u001b[0m\u001b[0m_jit_compile\u001b[0m\u001b[1;33m)\u001b[0m\u001b[1;33m:\u001b[0m\u001b[1;33m\u001b[0m\u001b[1;33m\u001b[0m\u001b[0m\n\u001b[1;32m--> 889\u001b[1;33m         \u001b[0mresult\u001b[0m \u001b[1;33m=\u001b[0m \u001b[0mself\u001b[0m\u001b[1;33m.\u001b[0m\u001b[0m_call\u001b[0m\u001b[1;33m(\u001b[0m\u001b[1;33m*\u001b[0m\u001b[0margs\u001b[0m\u001b[1;33m,\u001b[0m \u001b[1;33m**\u001b[0m\u001b[0mkwds\u001b[0m\u001b[1;33m)\u001b[0m\u001b[1;33m\u001b[0m\u001b[1;33m\u001b[0m\u001b[0m\n\u001b[0m\u001b[0;32m    890\u001b[0m \u001b[1;33m\u001b[0m\u001b[0m\n\u001b[0;32m    891\u001b[0m       \u001b[0mnew_tracing_count\u001b[0m \u001b[1;33m=\u001b[0m \u001b[0mself\u001b[0m\u001b[1;33m.\u001b[0m\u001b[0mexperimental_get_tracing_count\u001b[0m\u001b[1;33m(\u001b[0m\u001b[1;33m)\u001b[0m\u001b[1;33m\u001b[0m\u001b[1;33m\u001b[0m\u001b[0m\n",
      "\u001b[1;32mc:\\Users\\Admin\\Desktop\\LearningAI\\learning_ai\\lib\\site-packages\\tensorflow\\python\\eager\\def_function.py\u001b[0m in \u001b[0;36m_call\u001b[1;34m(self, *args, **kwds)\u001b[0m\n\u001b[0;32m    915\u001b[0m       \u001b[1;31m# In this case we have created variables on the first call, so we run the\u001b[0m\u001b[1;33m\u001b[0m\u001b[1;33m\u001b[0m\u001b[1;33m\u001b[0m\u001b[0m\n\u001b[0;32m    916\u001b[0m       \u001b[1;31m# defunned version which is guaranteed to never create variables.\u001b[0m\u001b[1;33m\u001b[0m\u001b[1;33m\u001b[0m\u001b[1;33m\u001b[0m\u001b[0m\n\u001b[1;32m--> 917\u001b[1;33m       \u001b[1;32mreturn\u001b[0m \u001b[0mself\u001b[0m\u001b[1;33m.\u001b[0m\u001b[0m_stateless_fn\u001b[0m\u001b[1;33m(\u001b[0m\u001b[1;33m*\u001b[0m\u001b[0margs\u001b[0m\u001b[1;33m,\u001b[0m \u001b[1;33m**\u001b[0m\u001b[0mkwds\u001b[0m\u001b[1;33m)\u001b[0m  \u001b[1;31m# pylint: disable=not-callable\u001b[0m\u001b[1;33m\u001b[0m\u001b[1;33m\u001b[0m\u001b[0m\n\u001b[0m\u001b[0;32m    918\u001b[0m     \u001b[1;32melif\u001b[0m \u001b[0mself\u001b[0m\u001b[1;33m.\u001b[0m\u001b[0m_stateful_fn\u001b[0m \u001b[1;32mis\u001b[0m \u001b[1;32mnot\u001b[0m \u001b[1;32mNone\u001b[0m\u001b[1;33m:\u001b[0m\u001b[1;33m\u001b[0m\u001b[1;33m\u001b[0m\u001b[0m\n\u001b[0;32m    919\u001b[0m       \u001b[1;31m# Release the lock early so that multiple threads can perform the call\u001b[0m\u001b[1;33m\u001b[0m\u001b[1;33m\u001b[0m\u001b[1;33m\u001b[0m\u001b[0m\n",
      "\u001b[1;32mc:\\Users\\Admin\\Desktop\\LearningAI\\learning_ai\\lib\\site-packages\\tensorflow\\python\\eager\\function.py\u001b[0m in \u001b[0;36m__call__\u001b[1;34m(self, *args, **kwargs)\u001b[0m\n\u001b[0;32m   3022\u001b[0m        filtered_flat_args) = self._maybe_define_function(args, kwargs)\n\u001b[0;32m   3023\u001b[0m     return graph_function._call_flat(\n\u001b[1;32m-> 3024\u001b[1;33m         filtered_flat_args, captured_inputs=graph_function.captured_inputs)  # pylint: disable=protected-access\n\u001b[0m\u001b[0;32m   3025\u001b[0m \u001b[1;33m\u001b[0m\u001b[0m\n\u001b[0;32m   3026\u001b[0m   \u001b[1;33m@\u001b[0m\u001b[0mproperty\u001b[0m\u001b[1;33m\u001b[0m\u001b[1;33m\u001b[0m\u001b[0m\n",
      "\u001b[1;32mc:\\Users\\Admin\\Desktop\\LearningAI\\learning_ai\\lib\\site-packages\\tensorflow\\python\\eager\\function.py\u001b[0m in \u001b[0;36m_call_flat\u001b[1;34m(self, args, captured_inputs, cancellation_manager)\u001b[0m\n\u001b[0;32m   1959\u001b[0m       \u001b[1;31m# No tape is watching; skip to running the function.\u001b[0m\u001b[1;33m\u001b[0m\u001b[1;33m\u001b[0m\u001b[1;33m\u001b[0m\u001b[0m\n\u001b[0;32m   1960\u001b[0m       return self._build_call_outputs(self._inference_function.call(\n\u001b[1;32m-> 1961\u001b[1;33m           ctx, args, cancellation_manager=cancellation_manager))\n\u001b[0m\u001b[0;32m   1962\u001b[0m     forward_backward = self._select_forward_and_backward_functions(\n\u001b[0;32m   1963\u001b[0m         \u001b[0margs\u001b[0m\u001b[1;33m,\u001b[0m\u001b[1;33m\u001b[0m\u001b[1;33m\u001b[0m\u001b[0m\n",
      "\u001b[1;32mc:\\Users\\Admin\\Desktop\\LearningAI\\learning_ai\\lib\\site-packages\\tensorflow\\python\\eager\\function.py\u001b[0m in \u001b[0;36mcall\u001b[1;34m(self, ctx, args, cancellation_manager)\u001b[0m\n\u001b[0;32m    594\u001b[0m               \u001b[0minputs\u001b[0m\u001b[1;33m=\u001b[0m\u001b[0margs\u001b[0m\u001b[1;33m,\u001b[0m\u001b[1;33m\u001b[0m\u001b[1;33m\u001b[0m\u001b[0m\n\u001b[0;32m    595\u001b[0m               \u001b[0mattrs\u001b[0m\u001b[1;33m=\u001b[0m\u001b[0mattrs\u001b[0m\u001b[1;33m,\u001b[0m\u001b[1;33m\u001b[0m\u001b[1;33m\u001b[0m\u001b[0m\n\u001b[1;32m--> 596\u001b[1;33m               ctx=ctx)\n\u001b[0m\u001b[0;32m    597\u001b[0m         \u001b[1;32melse\u001b[0m\u001b[1;33m:\u001b[0m\u001b[1;33m\u001b[0m\u001b[1;33m\u001b[0m\u001b[0m\n\u001b[0;32m    598\u001b[0m           outputs = execute.execute_with_cancellation(\n",
      "\u001b[1;32mc:\\Users\\Admin\\Desktop\\LearningAI\\learning_ai\\lib\\site-packages\\tensorflow\\python\\eager\\execute.py\u001b[0m in \u001b[0;36mquick_execute\u001b[1;34m(op_name, num_outputs, inputs, attrs, ctx, name)\u001b[0m\n\u001b[0;32m     58\u001b[0m     \u001b[0mctx\u001b[0m\u001b[1;33m.\u001b[0m\u001b[0mensure_initialized\u001b[0m\u001b[1;33m(\u001b[0m\u001b[1;33m)\u001b[0m\u001b[1;33m\u001b[0m\u001b[1;33m\u001b[0m\u001b[0m\n\u001b[0;32m     59\u001b[0m     tensors = pywrap_tfe.TFE_Py_Execute(ctx._handle, device_name, op_name,\n\u001b[1;32m---> 60\u001b[1;33m                                         inputs, attrs, num_outputs)\n\u001b[0m\u001b[0;32m     61\u001b[0m   \u001b[1;32mexcept\u001b[0m \u001b[0mcore\u001b[0m\u001b[1;33m.\u001b[0m\u001b[0m_NotOkStatusException\u001b[0m \u001b[1;32mas\u001b[0m \u001b[0me\u001b[0m\u001b[1;33m:\u001b[0m\u001b[1;33m\u001b[0m\u001b[1;33m\u001b[0m\u001b[0m\n\u001b[0;32m     62\u001b[0m     \u001b[1;32mif\u001b[0m \u001b[0mname\u001b[0m \u001b[1;32mis\u001b[0m \u001b[1;32mnot\u001b[0m \u001b[1;32mNone\u001b[0m\u001b[1;33m:\u001b[0m\u001b[1;33m\u001b[0m\u001b[1;33m\u001b[0m\u001b[0m\n",
      "\u001b[1;31mKeyboardInterrupt\u001b[0m: "
     ]
    }
   ],
   "source": [
    "history= model.fit(X_train, y_train, epochs=100,\n",
    "                    validation_data=(X_valid, y_valid))"
   ]
  },
  {
   "cell_type": "code",
   "execution_count": 27,
   "metadata": {},
   "outputs": [
    {
     "name": "stdout",
     "output_type": "stream",
     "text": [
      "313/313 [==============================] - 1s 3ms/step - loss: 1.4565 - accuracy: 0.4808\n"
     ]
    },
    {
     "data": {
      "text/plain": [
       "[1.4564915895462036, 0.48080000281333923]"
      ]
     },
     "execution_count": 27,
     "metadata": {},
     "output_type": "execute_result"
    }
   ],
   "source": [
    "model.evaluate(X_test / 255.0 , y_test)"
   ]
  },
  {
   "cell_type": "code",
   "execution_count": 32,
   "metadata": {},
   "outputs": [
    {
     "data": {
      "image/png": "[encoded data removed]",
      "text/plain": [
       "<Figure size 576x360 with 1 Axes>"
      ]
     },
     "metadata": {
      "needs_background": "light"
     },
     "output_type": "display_data"
    }
   ],
   "source": [
    "import pandas as pd\n",
    "import matplotlib.pyplot as plt\n",
    "\n",
    "pd.DataFrame(history.history).plot(figsize=(8, 5))\n",
    "plt.grid(True)\n",
    "plt.gca().set_ylim(0, 1)\n",
    "plt.show()"
   ]
  },
  {
   "cell_type": "code",
   "execution_count": null,
   "metadata": {},
   "outputs": [],
   "source": []
  }
 ],
 "metadata": {
  "interpreter": {
   "hash": "183bbf6827d058c2a2fb0f4acdc0420849dda2b4380af0e437e38c64d798d8b7"
  },
  "kernelspec": {
   "display_name": "Python 3.8.8 64-bit ('base': conda)",
   "name": "python3"
  },
  "language_info": {
   "codemirror_mode": {
    "name": "ipython",
    "version": 3
   },
   "file_extension": ".py",
   "mimetype": "text/x-python",
   "name": "python",
   "nbconvert_exporter": "python",
   "pygments_lexer": "ipython3",
   "version": "3.7.7"
  },
  "orig_nbformat": 4
 },
 "nbformat": 4,
 "nbformat_minor": 2
}