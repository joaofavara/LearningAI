{
 "cells": [
  {
   "cell_type": "code",
   "execution_count": 20,
   "metadata": {},
   "outputs": [],
   "source": [
    "import tensorflow as tf\n",
    "from tensorflow import keras\n",
    "import numpy as np\n",
    "import pandas as pd\n",
    "import matplotlib.pyplot as plt"
   ]
  },
  {
   "cell_type": "code",
   "execution_count": 23,
   "metadata": {},
   "outputs": [
    {
     "data": {
      "text/plain": [
       "'2.4.0'"
      ]
     },
     "execution_count": 23,
     "metadata": {},
     "output_type": "execute_result"
    }
   ],
   "source": [
    "tf.__version__"
   ]
  },
  {
   "cell_type": "code",
   "execution_count": 22,
   "metadata": {},
   "outputs": [
    {
     "name": "stdout",
     "output_type": "stream",
     "text": [
      "Num GPUs Available:  1\n"
     ]
    }
   ],
   "source": [
    "print(\"Num GPUs Available: \", len(tf.config.list_physical_devices('GPU')))\n",
    "# physical_devices = tf.config.list_physical_devices('GPU')\n",
    "# tf.config.experimental.set_memory_growth(physical_devices[0], True)"
   ]
  },
  {
   "cell_type": "code",
   "execution_count": 24,
   "metadata": {},
   "outputs": [],
   "source": [
    "images = keras.datasets.cifar10.load_data()"
   ]
  },
  {
   "cell_type": "code",
   "execution_count": 26,
   "metadata": {},
   "outputs": [
    {
     "name": "stdout",
     "output_type": "stream",
     "text": [
      "X_train_full.shape: (50000, 32, 32, 3)\n",
      "X_train_full.dtype: uint8\n",
      "y_train_full.shape: (50000, 1)\n",
      "y_train_full.dtype: uint8\n",
      "X_test.shape: (10000, 32, 32, 3)\n",
      "X_test.dtype: uint8\n",
      "y_test.shape: (10000, 1)\n",
      "y_test.dtype: uint8\n"
     ]
    }
   ],
   "source": [
    "(X_train_full, y_train_full), (X_test, y_test) = images\n",
    "print(f'X_train_full.shape: {X_train_full.shape}')\n",
    "print(f'X_train_full.dtype: {X_train_full.dtype}')\n",
    "print(f'y_train_full.shape: {y_train_full.shape}')\n",
    "print(f'y_train_full.dtype: {y_train_full.dtype}')\n",
    "print(f'X_test.shape: {X_test.shape}')\n",
    "print(f'X_test.dtype: {X_test.dtype}')\n",
    "print(f'y_test.shape: {y_test.shape}')\n",
    "print(f'y_test.dtype: {y_test.dtype}')"
   ]
  },
  {
   "cell_type": "code",
   "execution_count": 27,
   "metadata": {},
   "outputs": [],
   "source": [
    "class_name = ['airplane', 'automobile', 'bird', 'cat', 'deer', 'dog', 'frog', 'horse', 'ship', 'truck']"
   ]
  },
  {
   "cell_type": "code",
   "execution_count": 28,
   "metadata": {},
   "outputs": [],
   "source": [
    "X_valid, X_train = X_train_full[:10000] / 255.0, X_train_full[10000:] / 255.0\n",
    "\n",
    "values = []\n",
    "for data in y_train_full:\n",
    "    values.append(data[0])\n",
    "\n",
    "y_valid, y_train = np.asarray(y_train_full[:10000], dtype=np.float32), np.asarray(y_train_full[10000:], dtype=np.float32)\n",
    "# print(f'y_valid.shape: {y_valid.shape}')\n",
    "# print(f'y_valid.dtype: {y_valid.dtype}')\n",
    "# print(f'y_train.shape: {y_train.shape}')\n",
    "# print(f'y_train.dtype: {y_train.dtype}')"
   ]
  },
  {
   "cell_type": "code",
   "execution_count": 29,
   "metadata": {},
   "outputs": [
    {
     "data": {
      "text/plain": [
       "<matplotlib.image.AxesImage at 0x2d87880b648>"
      ]
     },
     "execution_count": 29,
     "metadata": {},
     "output_type": "execute_result"
    },
    {
     "data": {
      "image/png": "[encoded data removed]",
      "text/plain": [
       "<Figure size 432x288 with 1 Axes>"
      ]
     },
     "metadata": {
      "needs_background": "light"
     },
     "output_type": "display_data"
    }
   ],
   "source": [
    "plt.imshow(X_train[5], cmap='gray')"
   ]
  },
  {
   "cell_type": "code",
   "execution_count": 30,
   "metadata": {},
   "outputs": [],
   "source": [
    "model = keras.models.Sequential()\n",
    "# model.add(keras.layers.Dense(300, activation=\"relu\"))\n",
    "model.add(keras.layers.Conv2D(64, 7, activation=\"relu\", padding=\"same\", input_shape=[32, 32, 3]))\n",
    "model.add(keras.layers.MaxPool2D(2))\n",
    "model.add(keras.layers.Conv2D(128, 3, activation=\"relu\", padding=\"same\"))\n",
    "model.add(keras.layers.Conv2D(128, 3, activation=\"relu\", padding=\"same\"))\n",
    "model.add(keras.layers.MaxPool2D(2))\n",
    "model.add(keras.layers.Conv2D(256, 3, activation=\"relu\", padding=\"same\"))\n",
    "model.add(keras.layers.Conv2D(256, 3, activation=\"relu\", padding=\"same\"))\n",
    "model.add(keras.layers.MaxPool2D(2))\n",
    "model.add(keras.layers.Flatten())\n",
    "model.add(keras.layers.Dense(128, activation=\"relu\"))\n",
    "model.add(keras.layers.Dropout(0.5))\n",
    "model.add(keras.layers.Dense(64, activation=\"relu\"))\n",
    "model.add(keras.layers.Dropout(0.5))\n",
    "model.add(keras.layers.Dense(10, activation=\"softmax\"))\n"
   ]
  },
  {
   "cell_type": "code",
   "execution_count": 31,
   "metadata": {},
   "outputs": [
    {
     "name": "stdout",
     "output_type": "stream",
     "text": [
      "Model: \"sequential_1\"\n",
      "_________________________________________________________________\n",
      "Layer (type)                 Output Shape              Param #   \n",
      "=================================================================\n",
      "conv2d_5 (Conv2D)            (None, 32, 32, 64)        9472      \n",
      "_________________________________________________________________\n",
      "max_pooling2d_3 (MaxPooling2 (None, 16, 16, 64)        0         \n",
      "_________________________________________________________________\n",
      "conv2d_6 (Conv2D)            (None, 16, 16, 128)       73856     \n",
      "_________________________________________________________________\n",
      "conv2d_7 (Conv2D)            (None, 16, 16, 128)       147584    \n",
      "_________________________________________________________________\n",
      "max_pooling2d_4 (MaxPooling2 (None, 8, 8, 128)         0         \n",
      "_________________________________________________________________\n",
      "conv2d_8 (Conv2D)            (None, 8, 8, 256)         295168    \n",
      "_________________________________________________________________\n",
      "conv2d_9 (Conv2D)            (None, 8, 8, 256)         590080    \n",
      "_________________________________________________________________\n",
      "max_pooling2d_5 (MaxPooling2 (None, 4, 4, 256)         0         \n",
      "_________________________________________________________________\n",
      "flatten_1 (Flatten)          (None, 4096)              0         \n",
      "_________________________________________________________________\n",
      "dense_3 (Dense)              (None, 128)               524416    \n",
      "_________________________________________________________________\n",
      "dropout_2 (Dropout)          (None, 128)               0         \n",
      "_________________________________________________________________\n",
      "dense_4 (Dense)              (None, 64)                8256      \n",
      "_________________________________________________________________\n",
      "dropout_3 (Dropout)          (None, 64)                0         \n",
      "_________________________________________________________________\n",
      "dense_5 (Dense)              (None, 10)                650       \n",
      "=================================================================\n",
      "Total params: 1,649,482\n",
      "Trainable params: 1,649,482\n",
      "Non-trainable params: 0\n",
      "_________________________________________________________________\n"
     ]
    }
   ],
   "source": [
    "model.summary()"
   ]
  },
  {
   "cell_type": "code",
   "execution_count": 32,
   "metadata": {},
   "outputs": [],
   "source": [
    "model.compile(loss='sparse_categorical_crossentropy',\n",
    "optimizer=\"adam\",\n",
    "metrics=['accuracy'])"
   ]
  },
  {
   "cell_type": "code",
   "execution_count": 17,
   "metadata": {},
   "outputs": [
    {
     "name": "stdout",
     "output_type": "stream",
     "text": [
      "Epoch 1/5\n",
      "1250/1250 [==============================] - 39s 32ms/step - loss: 2.3027 - accuracy: 0.1005 - val_loss: 2.3028 - val_accuracy: 0.0974\n",
      "Epoch 2/5\n",
      "1250/1250 [==============================] - 39s 31ms/step - loss: 2.3027 - accuracy: 0.1022 - val_loss: 2.3027 - val_accuracy: 0.0937\n",
      "Epoch 3/5\n",
      "1250/1250 [==============================] - 37s 29ms/step - loss: 2.3028 - accuracy: 0.1008 - val_loss: 2.3028 - val_accuracy: 0.1001\n",
      "Epoch 4/5\n",
      "1250/1250 [==============================] - 36s 29ms/step - loss: 2.3028 - accuracy: 0.0975 - val_loss: 2.3029 - val_accuracy: 0.0981\n",
      "Epoch 5/5\n",
      "1250/1250 [==============================] - 37s 30ms/step - loss: 2.3028 - accuracy: 0.0997 - val_loss: 2.3030 - val_accuracy: 0.0937\n"
     ]
    }
   ],
   "source": [
    "history= model.fit(X_train, y_train, epochs=5,\n",
    "                    validation_data=(X_valid, y_valid))"
   ]
  },
  {
   "cell_type": "code",
   "execution_count": 12,
   "metadata": {},
   "outputs": [
    {
     "name": "stdout",
     "output_type": "stream",
     "text": [
      "313/313 [==============================] - 1s 4ms/step - loss: 1.5449 - accuracy: 0.4485\n"
     ]
    },
    {
     "data": {
      "text/plain": [
       "[1.5449498891830444, 0.44850000739097595]"
      ]
     },
     "execution_count": 12,
     "metadata": {},
     "output_type": "execute_result"
    }
   ],
   "source": [
    "model.evaluate(X_test / 255.0 , y_test)"
   ]
  },
  {
   "cell_type": "code",
   "execution_count": 32,
   "metadata": {},
   "outputs": [
    {
     "data": {
      "image/png": "[encoded data removed]",
      "text/plain": [
       "<Figure size 576x360 with 1 Axes>"
      ]
     },
     "metadata": {
      "needs_background": "light"
     },
     "output_type": "display_data"
    }
   ],
   "source": [
    "\n",
    "\n",
    "pd.DataFrame(history.history).plot(figsize=(8, 5))\n",
    "plt.grid(True)\n",
    "plt.gca().set_ylim(0, 1)\n",
    "plt.show()"
   ]
  },
  {
   "cell_type": "code",
   "execution_count": null,
   "metadata": {},
   "outputs": [],
   "source": []
  }
 ],
 "metadata": {
  "interpreter": {
   "hash": "fd5166da875c887e33dddf11bc02fc9aaac493a8ba48c8ccc6c811fb1ef89ae7"
  },
  "kernelspec": {
   "display_name": "Python 3.7.7 64-bit ('learning_ai': venv)",
   "name": "python3"
  },
  "language_info": {
   "codemirror_mode": {
    "name": "ipython",
    "version": 3
   },
   "file_extension": ".py",
   "mimetype": "text/x-python",
   "name": "python",
   "nbconvert_exporter": "python",
   "pygments_lexer": "ipython3",
   "version": "3.7.7"
  },
  "orig_nbformat": 4
 },
 "nbformat": 4,
 "nbformat_minor": 2
}