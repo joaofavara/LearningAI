{
 "cells": [
  {
   "cell_type": "code",
   "execution_count": 1,
   "metadata": {},
   "outputs": [],
   "source": [
    "import tensorflow as tf\n",
    "from tensorflow import keras\n",
    "import numpy as np\n",
    "import pandas as pd\n",
    "import matplotlib.pyplot as plt"
   ]
  },
  {
   "cell_type": "code",
   "execution_count": 2,
   "metadata": {},
   "outputs": [
    {
     "data": {
      "text/plain": [
       "'2.4.0'"
      ]
     },
     "execution_count": 2,
     "metadata": {},
     "output_type": "execute_result"
    }
   ],
   "source": [
    "tf.__version__"
   ]
  },
  {
   "cell_type": "code",
   "execution_count": 3,
   "metadata": {},
   "outputs": [
    {
     "name": "stdout",
     "output_type": "stream",
     "text": [
      "Num GPUs Available:  1\n"
     ]
    }
   ],
   "source": [
    "print(\"Num GPUs Available: \", len(tf.config.list_physical_devices('GPU')))\n",
    "# physical_devices = tf.config.list_physical_devices('GPU')\n",
    "# tf.config.experimental.set_memory_growth(physical_devices[0], True)"
   ]
  },
  {
   "cell_type": "code",
   "execution_count": 4,
   "metadata": {},
   "outputs": [],
   "source": [
    "images = keras.datasets.cifar10.load_data()"
   ]
  },
  {
   "cell_type": "code",
   "execution_count": 5,
   "metadata": {},
   "outputs": [
    {
     "name": "stdout",
     "output_type": "stream",
     "text": [
      "X_train_full.shape: (50000, 32, 32, 3)\n",
      "X_train_full.dtype: uint8\n",
      "y_train_full.shape: (50000, 1)\n",
      "y_train_full.dtype: uint8\n",
      "X_test.shape: (10000, 32, 32, 3)\n",
      "X_test.dtype: uint8\n",
      "y_test.shape: (10000, 1)\n",
      "y_test.dtype: uint8\n"
     ]
    }
   ],
   "source": [
    "(X_train_full, y_train_full), (X_test, y_test) = images\n",
    "print(f'X_train_full.shape: {X_train_full.shape}')\n",
    "print(f'X_train_full.dtype: {X_train_full.dtype}')\n",
    "print(f'y_train_full.shape: {y_train_full.shape}')\n",
    "print(f'y_train_full.dtype: {y_train_full.dtype}')\n",
    "print(f'X_test.shape: {X_test.shape}')\n",
    "print(f'X_test.dtype: {X_test.dtype}')\n",
    "print(f'y_test.shape: {y_test.shape}')\n",
    "print(f'y_test.dtype: {y_test.dtype}')"
   ]
  },
  {
   "cell_type": "code",
   "execution_count": 6,
   "metadata": {},
   "outputs": [],
   "source": [
    "class_name = ['airplane', 'automobile', 'bird', 'cat', 'deer', 'dog', 'frog', 'horse', 'ship', 'truck']"
   ]
  },
  {
   "cell_type": "code",
   "execution_count": 7,
   "metadata": {},
   "outputs": [],
   "source": [
    "X_valid, X_train = X_train_full[:10000] / 255.0, X_train_full[10000:] / 255.0\n",
    "\n",
    "values = []\n",
    "for data in y_train_full:\n",
    "    values.append(data[0])\n",
    "\n",
    "y_valid, y_train = np.asarray(y_train_full[:10000], dtype=np.float32), np.asarray(y_train_full[10000:], dtype=np.float32)\n",
    "# print(f'y_valid.shape: {y_valid.shape}')\n",
    "# print(f'y_valid.dtype: {y_valid.dtype}')\n",
    "# print(f'y_train.shape: {y_train.shape}')\n",
    "# print(f'y_train.dtype: {y_train.dtype}')"
   ]
  },
  {
   "cell_type": "code",
   "execution_count": 8,
   "metadata": {},
   "outputs": [
    {
     "data": {
      "text/plain": [
       "<matplotlib.image.AxesImage at 0x22850555348>"
      ]
     },
     "execution_count": 8,
     "metadata": {},
     "output_type": "execute_result"
    },
    {
     "data": {
      "image/png": "[encoded data removed]",
      "text/plain": [
       "<Figure size 432x288 with 1 Axes>"
      ]
     },
     "metadata": {
      "needs_background": "light"
     },
     "output_type": "display_data"
    }
   ],
   "source": [
    "plt.imshow(X_train[5], cmap='gray')"
   ]
  },
  {
   "cell_type": "code",
   "execution_count": 9,
   "metadata": {},
   "outputs": [
    {
     "data": {
      "image/png": "[encoded data removed]",
      "text/plain": [
       "<Figure size 432x288 with 2 Axes>"
      ]
     },
     "metadata": {
      "needs_background": "light"
     },
     "output_type": "display_data"
    }
   ],
   "source": [
    "plt.figure()\n",
    "plt.imshow(X_train[5])\n",
    "plt.colorbar()\n",
    "plt.grid(False)\n",
    "plt.show()"
   ]
  },
  {
   "cell_type": "code",
   "execution_count": 17,
   "metadata": {},
   "outputs": [],
   "source": [
    "model = keras.models.Sequential()\n",
    "model.add(keras.Input(shape=X_train[0].shape))\n",
    "# model.add(keras.layers.Dense(300, activation=\"relu\"))\n",
    "model.add(keras.layers.Conv2D(32, (3, 3), activation=\"relu\", padding=\"same\"))\n",
    "# model.add(keras.layers.Conv2D(32, (3, 3) , activation=\"relu\", padding=\"same\"))\n",
    "model.add(keras.layers.MaxPool2D(2))\n",
    "model.add(keras.layers.Conv2D(64, (3, 3), activation=\"relu\", padding=\"same\"))\n",
    "model.add(keras.layers.MaxPool2D(2))\n",
    "model.add(keras.layers.Conv2D(128, (3, 3), activation=\"relu\", padding=\"same\"))\n",
    "model.add(keras.layers.MaxPool2D(2))\n",
    "model.add(keras.layers.Flatten())\n",
    "model.add(keras.layers.Dense(128, activation=\"relu\"))\n",
    "model.add(keras.layers.Dropout(0.5))\n",
    "model.add(keras.layers.Dense(10, activation=\"softmax\"))\n"
   ]
  },
  {
   "cell_type": "markdown",
   "metadata": {},
   "source": [
    "model.summary()"
   ]
  },
  {
   "cell_type": "code",
   "execution_count": 18,
   "metadata": {},
   "outputs": [],
   "source": [
    "model.compile(loss='sparse_categorical_crossentropy',\n",
    "optimizer=\"Adam\",\n",
    "metrics=['accuracy'])"
   ]
  },
  {
   "cell_type": "markdown",
   "metadata": {},
   "source": [
    "print(f'X_train: {len(X_train)}')\n",
    "print(f'y_train: {len(y_train)}')\n",
    "print(f'X_valid: {len(X_valid)}')\n",
    "print(f'y_valid: {len(y_valid)}')"
   ]
  },
  {
   "cell_type": "code",
   "execution_count": 19,
   "metadata": {},
   "outputs": [
    {
     "name": "stdout",
     "output_type": "stream",
     "text": [
      "Epoch 1/15\n",
      "1250/1250 [==============================] - 12s 9ms/step - loss: 1.8929 - accuracy: 0.2882\n",
      "Epoch 2/15\n",
      "1250/1250 [==============================] - 11s 9ms/step - loss: 1.3158 - accuracy: 0.5256\n",
      "Epoch 3/15\n",
      "1250/1250 [==============================] - 13s 10ms/step - loss: 1.1055 - accuracy: 0.6125\n",
      "Epoch 4/15\n",
      "1250/1250 [==============================] - 12s 10ms/step - loss: 0.9687 - accuracy: 0.6587\n",
      "Epoch 5/15\n",
      "1250/1250 [==============================] - 12s 9ms/step - loss: 0.8828 - accuracy: 0.6915\n",
      "Epoch 6/15\n",
      "1250/1250 [==============================] - 11s 9ms/step - loss: 0.8143 - accuracy: 0.7165\n",
      "Epoch 7/15\n",
      "1250/1250 [==============================] - 12s 9ms/step - loss: 0.7555 - accuracy: 0.7363\n",
      "Epoch 8/15\n",
      "1250/1250 [==============================] - 11s 9ms/step - loss: 0.6957 - accuracy: 0.7546\n",
      "Epoch 9/15\n",
      "1250/1250 [==============================] - 12s 9ms/step - loss: 0.6547 - accuracy: 0.7689\n",
      "Epoch 10/15\n",
      "1250/1250 [==============================] - 11s 9ms/step - loss: 0.6046 - accuracy: 0.7869\n",
      "Epoch 11/15\n",
      "1250/1250 [==============================] - 12s 9ms/step - loss: 0.5659 - accuracy: 0.7980\n",
      "Epoch 12/15\n",
      "1250/1250 [==============================] - 12s 9ms/step - loss: 0.5428 - accuracy: 0.8069\n",
      "Epoch 13/15\n",
      "1250/1250 [==============================] - 11s 9ms/step - loss: 0.5169 - accuracy: 0.8143\n",
      "Epoch 14/15\n",
      "1250/1250 [==============================] - 12s 9ms/step - loss: 0.4691 - accuracy: 0.8290\n",
      "Epoch 15/15\n",
      "1250/1250 [==============================] - 12s 9ms/step - loss: 0.4562 - accuracy: 0.8356\n"
     ]
    }
   ],
   "source": [
    "history= model.fit(X_train, y_train, epochs=15)"
   ]
  },
  {
   "cell_type": "code",
   "execution_count": 20,
   "metadata": {},
   "outputs": [
    {
     "name": "stdout",
     "output_type": "stream",
     "text": [
      "313/313 [==============================] - 2s 5ms/step - loss: 0.9019 - accuracy: 0.7346\n"
     ]
    },
    {
     "data": {
      "text/plain": [
       "[0.9019094705581665, 0.7346000075340271]"
      ]
     },
     "execution_count": 20,
     "metadata": {},
     "output_type": "execute_result"
    }
   ],
   "source": [
    "model.evaluate(X_test / 255.0 , y_test)"
   ]
  },
  {
   "cell_type": "code",
   "execution_count": 21,
   "metadata": {},
   "outputs": [
    {
     "data": {
      "image/png": "[encoded data removed]",
      "text/plain": [
       "<Figure size 576x360 with 1 Axes>"
      ]
     },
     "metadata": {
      "needs_background": "light"
     },
     "output_type": "display_data"
    }
   ],
   "source": [
    "pd.DataFrame(history.history).plot(figsize=(8, 5))\n",
    "plt.grid(True)\n",
    "plt.gca().set_ylim(0, 1)\n",
    "plt.show()"
   ]
  },
  {
   "cell_type": "code",
   "execution_count": 93,
   "metadata": {},
   "outputs": [
    {
     "data": {
      "text/plain": [
       "<matplotlib.image.AxesImage at 0x209177e9e48>"
      ]
     },
     "execution_count": 93,
     "metadata": {},
     "output_type": "execute_result"
    },
    {
     "data": {
      "image/png": "[encoded data removed]",
      "text/plain": [
       "<Figure size 432x288 with 1 Axes>"
      ]
     },
     "metadata": {
      "needs_background": "light"
     },
     "output_type": "display_data"
    }
   ],
   "source": [
    "plt.imshow(X_test[215])"
   ]
  },
  {
   "cell_type": "code",
   "execution_count": 23,
   "metadata": {},
   "outputs": [],
   "source": [
    "model = keras.models.Sequential()\n",
    "model.add(keras.Input(shape=X_train[0].shape))\n",
    "# model.add(keras.layers.Dense(300, activation=\"relu\"))\n",
    "model.add(keras.layers.Conv2D(32, (3, 3), activation=\"relu\", padding=\"same\"))\n",
    "model.add(keras.layers.BatchNormalization())\n",
    "model.add(keras.layers.Conv2D(32, (3, 3), activation=\"relu\", padding=\"same\"))\n",
    "model.add(keras.layers.BatchNormalization())\n",
    "model.add(keras.layers.MaxPool2D((2, 2)))\n",
    "model.add(keras.layers.Conv2D(64, (3, 3), activation=\"relu\", padding=\"same\"))\n",
    "model.add(keras.layers.BatchNormalization())\n",
    "model.add(keras.layers.Conv2D(64, (3, 3), activation=\"relu\", padding=\"same\"))\n",
    "model.add(keras.layers.BatchNormalization())\n",
    "model.add(keras.layers.MaxPool2D((2, 2)))\n",
    "model.add(keras.layers.Conv2D(128, (3, 3), activation=\"relu\", padding=\"same\"))\n",
    "model.add(keras.layers.BatchNormalization())\n",
    "model.add(keras.layers.Conv2D(128, (3, 3), activation=\"relu\", padding=\"same\"))\n",
    "model.add(keras.layers.BatchNormalization())\n",
    "model.add(keras.layers.MaxPool2D((2, 2)))\n",
    "model.add(keras.layers.Flatten())\n",
    "model.add(keras.layers.Dense(1024, activation=\"relu\"))\n",
    "model.add(keras.layers.Dropout(0.5))\n",
    "model.add(keras.layers.Dense(10, activation=\"softmax\"))"
   ]
  },
  {
   "cell_type": "code",
   "execution_count": 24,
   "metadata": {},
   "outputs": [
    {
     "name": "stdout",
     "output_type": "stream",
     "text": [
      "Epoch 1/15\n",
      "1250/1250 [==============================] - 30s 23ms/step - loss: 1.9971 - accuracy: 0.4030\n",
      "Epoch 2/15\n",
      "1250/1250 [==============================] - 30s 24ms/step - loss: 1.0639 - accuracy: 0.6307\n",
      "Epoch 3/15\n",
      "1250/1250 [==============================] - 30s 24ms/step - loss: 0.8554 - accuracy: 0.7108\n",
      "Epoch 4/15\n",
      "1250/1250 [==============================] - 29s 24ms/step - loss: 0.7204 - accuracy: 0.7497\n",
      "Epoch 5/15\n",
      "1250/1250 [==============================] - 29s 23ms/step - loss: 0.6142 - accuracy: 0.7902\n",
      "Epoch 6/15\n",
      "1250/1250 [==============================] - 28s 23ms/step - loss: 0.5264 - accuracy: 0.8222\n",
      "Epoch 7/15\n",
      "1250/1250 [==============================] - 28s 23ms/step - loss: 0.4343 - accuracy: 0.8531\n",
      "Epoch 8/15\n",
      "1250/1250 [==============================] - 28s 23ms/step - loss: 0.3632 - accuracy: 0.8754\n",
      "Epoch 9/15\n",
      "1250/1250 [==============================] - 28s 23ms/step - loss: 0.3165 - accuracy: 0.8911\n",
      "Epoch 10/15\n",
      "1250/1250 [==============================] - 28s 23ms/step - loss: 0.2643 - accuracy: 0.9081\n",
      "Epoch 11/15\n",
      "1250/1250 [==============================] - 28s 23ms/step - loss: 0.2231 - accuracy: 0.9226\n",
      "Epoch 12/15\n",
      "1250/1250 [==============================] - 30s 24ms/step - loss: 0.1955 - accuracy: 0.9342\n",
      "Epoch 13/15\n",
      "1250/1250 [==============================] - 30s 24ms/step - loss: 0.1829 - accuracy: 0.9373\n",
      "Epoch 14/15\n",
      "1250/1250 [==============================] - 30s 24ms/step - loss: 0.1547 - accuracy: 0.9465\n",
      "Epoch 15/15\n",
      "1250/1250 [==============================] - 30s 24ms/step - loss: 0.1378 - accuracy: 0.9535\n"
     ]
    }
   ],
   "source": [
    "model.compile(loss='sparse_categorical_crossentropy',\n",
    "optimizer=\"Adam\",\n",
    "metrics=['accuracy'])\n",
    "history= model.fit(X_train, y_train, epochs=15)"
   ]
  },
  {
   "cell_type": "code",
   "execution_count": 25,
   "metadata": {},
   "outputs": [
    {
     "name": "stdout",
     "output_type": "stream",
     "text": [
      "313/313 [==============================] - 3s 9ms/step - loss: 0.7703 - accuracy: 0.8081\n"
     ]
    },
    {
     "data": {
      "text/plain": [
       "[0.7702579498291016, 0.8080999851226807]"
      ]
     },
     "execution_count": 25,
     "metadata": {},
     "output_type": "execute_result"
    }
   ],
   "source": [
    "model.evaluate(X_test / 255.0 , y_test)"
   ]
  },
  {
   "cell_type": "code",
   "execution_count": 28,
   "metadata": {},
   "outputs": [
    {
     "data": {
      "image/png": "[encoded data removed]",
      "text/plain": [
       "<Figure size 576x360 with 1 Axes>"
      ]
     },
     "metadata": {
      "needs_background": "light"
     },
     "output_type": "display_data"
    }
   ],
   "source": [
    "pd.DataFrame(history.history).plot(figsize=(8, 5))\n",
    "plt.grid(True)\n",
    "plt.gca().set_ylim(0, 1)\n",
    "plt.show()"
   ]
  },
  {
   "cell_type": "code",
   "execution_count": 35,
   "metadata": {},
   "outputs": [
    {
     "data": {
      "image/png": "[encoded data removed]",
      "text/plain": [
       "<Figure size 576x360 with 1 Axes>"
      ]
     },
     "metadata": {
      "needs_background": "light"
     },
     "output_type": "display_data"
    }
   ],
   "source": [
    "pd.DataFrame(history.history['accuracy']).plot(figsize=(8, 5))\n",
    "plt.grid(True)\n",
    "plt.gca().set_ylim(0, 1)\n",
    "plt.show()"
   ]
  },
  {
   "cell_type": "code",
   "execution_count": null,
   "metadata": {},
   "outputs": [],
   "source": []
  }
 ],
 "metadata": {
  "interpreter": {
   "hash": "fd5166da875c887e33dddf11bc02fc9aaac493a8ba48c8ccc6c811fb1ef89ae7"
  },
  "kernelspec": {
   "display_name": "Python 3.7.7 64-bit ('learning_ai': venv)",
   "name": "python3"
  },
  "language_info": {
   "codemirror_mode": {
    "name": "ipython",
    "version": 3
   },
   "file_extension": ".py",
   "mimetype": "text/x-python",
   "name": "python",
   "nbconvert_exporter": "python",
   "pygments_lexer": "ipython3",
   "version": "3.7.7"
  },
  "orig_nbformat": 4
 },
 "nbformat": 4,
 "nbformat_minor": 2
}